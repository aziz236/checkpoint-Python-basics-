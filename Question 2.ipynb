{
 "cells": [
  {
   "cell_type": "code",
   "execution_count": null,
   "id": "348e0cee",
   "metadata": {},
   "outputs": [],
   "source": [
    "x=input(\"insert a number\")"
   ]
  },
  {
   "cell_type": "code",
   "execution_count": null,
   "id": "1688366d",
   "metadata": {},
   "outputs": [],
   "source": [
    "print(int(x)+int(x+x)+int(x+x+x),str(\"(\"+x+\"+\"+x+x+\"+\"+x+x+x+\")\"))"
   ]
  }
 ],
 "metadata": {
  "kernelspec": {
   "display_name": "Python 3",
   "language": "python",
   "name": "python3"
  },
  "language_info": {
   "codemirror_mode": {
    "name": "ipython",
    "version": 3
   },
   "file_extension": ".py",
   "mimetype": "text/x-python",
   "name": "python",
   "nbconvert_exporter": "python",
   "pygments_lexer": "ipython3",
   "version": "3.8.8"
  }
 },
 "nbformat": 4,
 "nbformat_minor": 5
}
