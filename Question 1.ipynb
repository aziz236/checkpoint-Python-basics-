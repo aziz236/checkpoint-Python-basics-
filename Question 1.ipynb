{
 "cells": [
  {
   "cell_type": "code",
   "execution_count": null,
   "id": "d1285c83",
   "metadata": {},
   "outputs": [],
   "source": [
    "firstname= input(\"write your first name here: \")\n",
    "lastname = input(\"write your last name here: \")"
   ]
  },
  {
   "cell_type": "code",
   "execution_count": null,
   "id": "d8a4018e",
   "metadata": {},
   "outputs": [],
   "source": [
    "print(lastname,firstname)"
   ]
  },
  {
   "cell_type": "code",
   "execution_count": null,
   "id": "612dc719",
   "metadata": {},
   "outputs": [],
   "source": []
  }
 ],
 "metadata": {
  "kernelspec": {
   "display_name": "Python 3",
   "language": "python",
   "name": "python3"
  },
  "language_info": {
   "codemirror_mode": {
    "name": "ipython",
    "version": 3
   },
   "file_extension": ".py",
   "mimetype": "text/x-python",
   "name": "python",
   "nbconvert_exporter": "python",
   "pygments_lexer": "ipython3",
   "version": "3.8.8"
  }
 },
 "nbformat": 4,
 "nbformat_minor": 5
}
