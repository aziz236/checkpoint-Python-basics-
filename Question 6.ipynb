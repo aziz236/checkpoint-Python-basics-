{
 "cells": [
  {
   "cell_type": "code",
   "execution_count": null,
   "id": "9fdaf037",
   "metadata": {},
   "outputs": [],
   "source": [
    "string=input(\"Type your string here: \")\n",
    "newString=\"\"\n",
    "i=0"
   ]
  },
  {
   "cell_type": "code",
   "execution_count": 7,
   "id": "d7cf448d",
   "metadata": {},
   "outputs": [],
   "source": [
    "while i!=len(string):\n",
    "  if i%2==0: \n",
    "    newString=newString+string[i]\n",
    "  i=i+1"
   ]
  },
  {
   "cell_type": "code",
   "execution_count": null,
   "id": "9fe362ad",
   "metadata": {},
   "outputs": [],
   "source": [
    "print(newString)"
   ]
  }
 ],
 "metadata": {
  "kernelspec": {
   "display_name": "Python 3",
   "language": "python",
   "name": "python3"
  },
  "language_info": {
   "codemirror_mode": {
    "name": "ipython",
    "version": 3
   },
   "file_extension": ".py",
   "mimetype": "text/x-python",
   "name": "python",
   "nbconvert_exporter": "python",
   "pygments_lexer": "ipython3",
   "version": "3.8.8"
  }
 },
 "nbformat": 4,
 "nbformat_minor": 5
}
