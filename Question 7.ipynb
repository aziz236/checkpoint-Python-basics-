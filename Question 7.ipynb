{
 "cells": [
  {
   "cell_type": "code",
   "execution_count": null,
   "id": "de7fd7d4",
   "metadata": {},
   "outputs": [],
   "source": [
    "price= int(input(\"Insert the price: \"))\n",
    "newPrice=0"
   ]
  },
  {
   "cell_type": "code",
   "execution_count": 6,
   "id": "7114f1df",
   "metadata": {},
   "outputs": [],
   "source": [
    "if price>=500:\n",
    "  newPrice= price-(price/2)\n",
    "elif price>=200 and price<=500:\n",
    "  newPrice= price-((price/100)*30)\n",
    "else:\n",
    "  newPrice= price-(price/10)"
   ]
  },
  {
   "cell_type": "code",
   "execution_count": null,
   "id": "bbb1e7a2",
   "metadata": {},
   "outputs": [],
   "source": [
    "print(\"the new price with the discount is \",newPrice)"
   ]
  }
 ],
 "metadata": {
  "kernelspec": {
   "display_name": "Python 3",
   "language": "python",
   "name": "python3"
  },
  "language_info": {
   "codemirror_mode": {
    "name": "ipython",
    "version": 3
   },
   "file_extension": ".py",
   "mimetype": "text/x-python",
   "name": "python",
   "nbconvert_exporter": "python",
   "pygments_lexer": "ipython3",
   "version": "3.8.8"
  }
 },
 "nbformat": 4,
 "nbformat_minor": 5
}
