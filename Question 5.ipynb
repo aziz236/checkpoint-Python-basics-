{
 "cells": [
  {
   "cell_type": "code",
   "execution_count": null,
   "id": "13041c36",
   "metadata": {},
   "outputs": [],
   "source": [
    "x=int(input(\"insert a number: \"))"
   ]
  },
  {
   "cell_type": "code",
   "execution_count": 15,
   "id": "6e87ae13",
   "metadata": {},
   "outputs": [],
   "source": [
    "i=x"
   ]
  },
  {
   "cell_type": "code",
   "execution_count": 16,
   "id": "f6092e07",
   "metadata": {},
   "outputs": [],
   "source": [
    "while i!=1 :\n",
    "  i=i-1\n",
    "  x=x*i"
   ]
  },
  {
   "cell_type": "code",
   "execution_count": null,
   "id": "eedf6684",
   "metadata": {},
   "outputs": [],
   "source": [
    "print(x)"
   ]
  }
 ],
 "metadata": {
  "kernelspec": {
   "display_name": "Python 3",
   "language": "python",
   "name": "python3"
  },
  "language_info": {
   "codemirror_mode": {
    "name": "ipython",
    "version": 3
   },
   "file_extension": ".py",
   "mimetype": "text/x-python",
   "name": "python",
   "nbconvert_exporter": "python",
   "pygments_lexer": "ipython3",
   "version": "3.8.8"
  }
 },
 "nbformat": 4,
 "nbformat_minor": 5
}
